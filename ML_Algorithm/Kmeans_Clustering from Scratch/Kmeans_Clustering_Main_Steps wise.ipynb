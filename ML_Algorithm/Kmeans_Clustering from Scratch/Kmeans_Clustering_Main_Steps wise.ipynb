{
 "cells": [
  {
   "cell_type": "code",
   "execution_count": 1,
   "metadata": {},
   "outputs": [],
   "source": [
    "import pandas as pd\n",
    "import numpy as np\n",
    "import matplotlib.pyplot as plt\n",
    "import warnings\n",
    "warnings.filterwarnings(\"ignore\")"
   ]
  },
  {
   "cell_type": "code",
   "execution_count": 2,
   "metadata": {},
   "outputs": [],
   "source": [
    "from sklearn.datasets import make_blobs"
   ]
  },
  {
   "cell_type": "code",
   "execution_count": 3,
   "metadata": {},
   "outputs": [],
   "source": [
    "data = make_blobs(n_features=2, n_samples=100, centers=[[2.3, 3.5], [5.6, 6.3]])"
   ]
  },
  {
   "cell_type": "code",
   "execution_count": 4,
   "metadata": {},
   "outputs": [
    {
     "data": {
      "text/plain": [
       "(array([[ 1.89851375,  2.02848005],\n",
       "        [ 2.43730839,  2.69894653],\n",
       "        [ 2.51004807,  3.85265774],\n",
       "        [ 6.6440611 ,  7.16763792],\n",
       "        [ 4.46241301,  5.37508405],\n",
       "        [ 2.31915334,  4.56047998],\n",
       "        [ 3.10474821,  4.89213542],\n",
       "        [ 6.46154614,  8.38396771],\n",
       "        [ 2.65131342,  4.74580235],\n",
       "        [ 5.82960344,  6.45236056],\n",
       "        [ 7.34161033,  4.44377742],\n",
       "        [ 5.9028651 ,  6.39235392],\n",
       "        [ 3.73555984,  6.29582758],\n",
       "        [ 4.26927501,  6.5429254 ],\n",
       "        [ 4.72436153,  5.17485761],\n",
       "        [ 3.06453418,  3.07503052],\n",
       "        [ 4.84259006,  5.98007663],\n",
       "        [ 6.44384555,  6.1305728 ],\n",
       "        [ 1.83567688,  2.76468877],\n",
       "        [ 6.45092519,  7.46147803],\n",
       "        [ 3.10136705,  3.75048394],\n",
       "        [ 1.0386355 ,  5.09209167],\n",
       "        [ 4.95494465,  7.36072634],\n",
       "        [ 5.61430797,  6.07771041],\n",
       "        [ 2.31289905,  2.69543601],\n",
       "        [ 6.30995882,  5.82088879],\n",
       "        [ 2.98465795,  2.21685597],\n",
       "        [ 6.58101404,  5.90492526],\n",
       "        [ 6.42270324,  5.26865337],\n",
       "        [ 6.40720057,  5.4850881 ],\n",
       "        [ 2.66609648,  4.63418937],\n",
       "        [ 1.34197224,  4.22963686],\n",
       "        [ 2.06185743,  3.81036199],\n",
       "        [ 1.57362438,  3.56118077],\n",
       "        [ 0.51509337,  1.19976414],\n",
       "        [ 1.13633773,  4.0741859 ],\n",
       "        [ 5.85643837,  6.33013275],\n",
       "        [ 1.59701244,  2.50406258],\n",
       "        [ 4.92168392,  6.94131136],\n",
       "        [ 7.23306305,  5.48254371],\n",
       "        [ 4.58924747,  7.60184557],\n",
       "        [ 4.74014493,  8.66450459],\n",
       "        [ 3.66773953,  5.82556242],\n",
       "        [ 1.71910414,  2.85169156],\n",
       "        [ 5.24850106,  7.45994405],\n",
       "        [ 6.48685869,  5.10104575],\n",
       "        [-0.61079293,  1.66561812],\n",
       "        [ 6.09766949,  5.04076821],\n",
       "        [ 2.95874059,  4.6122109 ],\n",
       "        [ 5.23042046,  7.03430236],\n",
       "        [ 4.76547294,  6.70974816],\n",
       "        [ 5.40419829,  5.63884956],\n",
       "        [ 4.71310867,  6.57801993],\n",
       "        [ 7.0904514 ,  8.42536154],\n",
       "        [ 3.94323814,  5.84083488],\n",
       "        [ 6.0302183 ,  5.25001122],\n",
       "        [ 5.48756639,  5.01960641],\n",
       "        [ 2.70654799,  4.59860676],\n",
       "        [ 1.81151276,  3.61246843],\n",
       "        [ 5.02472323,  7.20287759],\n",
       "        [ 2.84131106,  3.71869408],\n",
       "        [ 6.46046836,  5.10360247],\n",
       "        [ 2.09541096,  5.59145376],\n",
       "        [ 5.88302694,  6.40309829],\n",
       "        [ 2.55926011,  2.26455883],\n",
       "        [ 2.89912992,  2.37783884],\n",
       "        [ 3.45925019,  2.46208855],\n",
       "        [ 0.59982507,  3.8532954 ],\n",
       "        [ 2.61878838,  1.92319877],\n",
       "        [ 0.74629238,  3.33287962],\n",
       "        [ 2.03622625,  3.66368809],\n",
       "        [ 1.63068299,  3.6068353 ],\n",
       "        [ 5.69039302,  5.90521256],\n",
       "        [ 1.78898184,  5.1389686 ],\n",
       "        [ 2.3888883 ,  4.96742274],\n",
       "        [ 2.25097515,  2.8952069 ],\n",
       "        [ 5.52644767,  6.8384269 ],\n",
       "        [ 5.08131305,  6.48756551],\n",
       "        [ 2.29068917,  2.62225489],\n",
       "        [ 1.64007864,  0.83620842],\n",
       "        [ 3.52886352,  2.52831413],\n",
       "        [ 1.6126187 ,  3.03810411],\n",
       "        [ 6.30411737,  3.61580471],\n",
       "        [ 3.48035307,  3.92229828],\n",
       "        [ 4.36796661,  7.01458929],\n",
       "        [ 4.36294575,  4.88006658],\n",
       "        [ 2.23482944,  2.84691616],\n",
       "        [ 5.61437822,  7.99174045],\n",
       "        [ 5.54537245,  5.02094561],\n",
       "        [-0.45515707,  3.54818421],\n",
       "        [ 2.28754939,  3.29077694],\n",
       "        [ 2.82026721,  4.8684927 ],\n",
       "        [ 1.37892794,  3.84631699],\n",
       "        [ 2.82520262,  3.83236418],\n",
       "        [ 3.77888304,  6.11968111],\n",
       "        [ 3.37814282,  3.41687067],\n",
       "        [ 3.46157379,  5.02935662],\n",
       "        [ 4.94389134,  7.787044  ],\n",
       "        [ 4.80605402,  6.5282484 ],\n",
       "        [ 6.72936654,  6.24149019]]),\n",
       " array([0, 0, 0, 1, 1, 0, 0, 1, 0, 1, 1, 1, 1, 1, 1, 0, 1, 1, 0, 1, 0, 0,\n",
       "        1, 1, 0, 1, 0, 1, 1, 1, 0, 0, 0, 0, 0, 0, 1, 0, 1, 1, 1, 1, 1, 0,\n",
       "        1, 1, 0, 1, 0, 1, 1, 1, 1, 1, 1, 1, 1, 0, 0, 1, 0, 1, 0, 1, 0, 0,\n",
       "        0, 0, 0, 0, 0, 0, 1, 0, 0, 0, 1, 1, 0, 0, 0, 0, 1, 0, 1, 1, 0, 1,\n",
       "        1, 0, 0, 0, 0, 0, 1, 0, 0, 1, 1, 1]))"
      ]
     },
     "execution_count": 4,
     "metadata": {},
     "output_type": "execute_result"
    }
   ],
   "source": [
    "data"
   ]
  },
  {
   "cell_type": "code",
   "execution_count": 7,
   "metadata": {},
   "outputs": [
    {
     "data": {
      "image/png": "[encoded data removed]",
      "text/plain": [
       "<Figure size 432x288 with 1 Axes>"
      ]
     },
     "metadata": {
      "needs_background": "light"
     },
     "output_type": "display_data"
    }
   ],
   "source": [
    "x = data[0]\n",
    "plt.scatter(x[:,0], x[:,1])\n",
    "plt.show()"
   ]
  },
  {
   "cell_type": "code",
   "execution_count": 8,
   "metadata": {},
   "outputs": [
    {
     "data": {
      "text/plain": [
       "array([2.51004807, 3.85265774])"
      ]
     },
     "execution_count": 8,
     "metadata": {},
     "output_type": "execute_result"
    }
   ],
   "source": [
    "# Step-1: Assign the centers randomly \n",
    "cent1 = x[2]\n",
    "cent1"
   ]
  },
  {
   "cell_type": "code",
   "execution_count": 9,
   "metadata": {},
   "outputs": [
    {
     "data": {
      "text/plain": [
       "array([5.24850106, 7.45994405])"
      ]
     },
     "execution_count": 9,
     "metadata": {},
     "output_type": "execute_result"
    }
   ],
   "source": [
    "cent2 = np.array([5.24850106,  7.45994405])\n",
    "cent2"
   ]
  },
  {
   "cell_type": "code",
   "execution_count": 10,
   "metadata": {},
   "outputs": [
    {
     "data": {
      "text/plain": [
       "array([[ 1.89851375,  2.02848005],\n",
       "       [ 2.43730839,  2.69894653],\n",
       "       [ 2.51004807,  3.85265774],\n",
       "       [ 6.6440611 ,  7.16763792],\n",
       "       [ 4.46241301,  5.37508405],\n",
       "       [ 2.31915334,  4.56047998],\n",
       "       [ 3.10474821,  4.89213542],\n",
       "       [ 6.46154614,  8.38396771],\n",
       "       [ 2.65131342,  4.74580235],\n",
       "       [ 5.82960344,  6.45236056],\n",
       "       [ 7.34161033,  4.44377742],\n",
       "       [ 5.9028651 ,  6.39235392],\n",
       "       [ 3.73555984,  6.29582758],\n",
       "       [ 4.26927501,  6.5429254 ],\n",
       "       [ 4.72436153,  5.17485761],\n",
       "       [ 3.06453418,  3.07503052],\n",
       "       [ 4.84259006,  5.98007663],\n",
       "       [ 6.44384555,  6.1305728 ],\n",
       "       [ 1.83567688,  2.76468877],\n",
       "       [ 6.45092519,  7.46147803],\n",
       "       [ 3.10136705,  3.75048394],\n",
       "       [ 1.0386355 ,  5.09209167],\n",
       "       [ 4.95494465,  7.36072634],\n",
       "       [ 5.61430797,  6.07771041],\n",
       "       [ 2.31289905,  2.69543601],\n",
       "       [ 6.30995882,  5.82088879],\n",
       "       [ 2.98465795,  2.21685597],\n",
       "       [ 6.58101404,  5.90492526],\n",
       "       [ 6.42270324,  5.26865337],\n",
       "       [ 6.40720057,  5.4850881 ],\n",
       "       [ 2.66609648,  4.63418937],\n",
       "       [ 1.34197224,  4.22963686],\n",
       "       [ 2.06185743,  3.81036199],\n",
       "       [ 1.57362438,  3.56118077],\n",
       "       [ 0.51509337,  1.19976414],\n",
       "       [ 1.13633773,  4.0741859 ],\n",
       "       [ 5.85643837,  6.33013275],\n",
       "       [ 1.59701244,  2.50406258],\n",
       "       [ 4.92168392,  6.94131136],\n",
       "       [ 7.23306305,  5.48254371],\n",
       "       [ 4.58924747,  7.60184557],\n",
       "       [ 4.74014493,  8.66450459],\n",
       "       [ 3.66773953,  5.82556242],\n",
       "       [ 1.71910414,  2.85169156],\n",
       "       [ 5.24850106,  7.45994405],\n",
       "       [ 6.48685869,  5.10104575],\n",
       "       [-0.61079293,  1.66561812],\n",
       "       [ 6.09766949,  5.04076821],\n",
       "       [ 2.95874059,  4.6122109 ],\n",
       "       [ 5.23042046,  7.03430236],\n",
       "       [ 4.76547294,  6.70974816],\n",
       "       [ 5.40419829,  5.63884956],\n",
       "       [ 4.71310867,  6.57801993],\n",
       "       [ 7.0904514 ,  8.42536154],\n",
       "       [ 3.94323814,  5.84083488],\n",
       "       [ 6.0302183 ,  5.25001122],\n",
       "       [ 5.48756639,  5.01960641],\n",
       "       [ 2.70654799,  4.59860676],\n",
       "       [ 1.81151276,  3.61246843],\n",
       "       [ 5.02472323,  7.20287759],\n",
       "       [ 2.84131106,  3.71869408],\n",
       "       [ 6.46046836,  5.10360247],\n",
       "       [ 2.09541096,  5.59145376],\n",
       "       [ 5.88302694,  6.40309829],\n",
       "       [ 2.55926011,  2.26455883],\n",
       "       [ 2.89912992,  2.37783884],\n",
       "       [ 3.45925019,  2.46208855],\n",
       "       [ 0.59982507,  3.8532954 ],\n",
       "       [ 2.61878838,  1.92319877],\n",
       "       [ 0.74629238,  3.33287962],\n",
       "       [ 2.03622625,  3.66368809],\n",
       "       [ 1.63068299,  3.6068353 ],\n",
       "       [ 5.69039302,  5.90521256],\n",
       "       [ 1.78898184,  5.1389686 ],\n",
       "       [ 2.3888883 ,  4.96742274],\n",
       "       [ 2.25097515,  2.8952069 ],\n",
       "       [ 5.52644767,  6.8384269 ],\n",
       "       [ 5.08131305,  6.48756551],\n",
       "       [ 2.29068917,  2.62225489],\n",
       "       [ 1.64007864,  0.83620842],\n",
       "       [ 3.52886352,  2.52831413],\n",
       "       [ 1.6126187 ,  3.03810411],\n",
       "       [ 6.30411737,  3.61580471],\n",
       "       [ 3.48035307,  3.92229828],\n",
       "       [ 4.36796661,  7.01458929],\n",
       "       [ 4.36294575,  4.88006658],\n",
       "       [ 2.23482944,  2.84691616],\n",
       "       [ 5.61437822,  7.99174045],\n",
       "       [ 5.54537245,  5.02094561],\n",
       "       [-0.45515707,  3.54818421],\n",
       "       [ 2.28754939,  3.29077694],\n",
       "       [ 2.82026721,  4.8684927 ],\n",
       "       [ 1.37892794,  3.84631699],\n",
       "       [ 2.82520262,  3.83236418],\n",
       "       [ 3.77888304,  6.11968111],\n",
       "       [ 3.37814282,  3.41687067],\n",
       "       [ 3.46157379,  5.02935662],\n",
       "       [ 4.94389134,  7.787044  ],\n",
       "       [ 4.80605402,  6.5282484 ],\n",
       "       [ 6.72936654,  6.24149019]])"
      ]
     },
     "execution_count": 10,
     "metadata": {},
     "output_type": "execute_result"
    }
   ],
   "source": [
    "x"
   ]
  },
  {
   "cell_type": "code",
   "execution_count": 14,
   "metadata": {},
   "outputs": [],
   "source": [
    "# Step 2 : Find the distance of every point from newly assigned random centers\n",
    "# Euclidean Distance\n",
    "# Manhatten Distance\n",
    "\n",
    "dist1 = np.sqrt((cent1[0] - x[:,0])**2 + (cent1[1] - x[:,1])**2)"
   ]
  },
  {
   "cell_type": "code",
   "execution_count": 16,
   "metadata": {},
   "outputs": [
    {
     "data": {
      "text/plain": [
       "array([1.92395386, 1.15600199, 0.        , 5.29897701, 2.47578488,\n",
       "       0.73311194, 1.19757342, 6.01224643, 0.90424731, 4.21638502,\n",
       "       4.86758836, 4.23807316, 2.73330532, 3.21440812, 2.57903017,\n",
       "       0.95507012, 3.15700226, 4.54572983, 1.28002069, 5.34360332,\n",
       "       0.60008135, 1.92386367, 4.27598698, 3.81933096, 1.17389517,\n",
       "       4.27939893, 1.70326216, 4.55900931, 4.16099917, 4.22523686,\n",
       "       0.79695847, 1.22740148, 0.45018194, 0.98073857, 3.31929039,\n",
       "       1.3914578 , 4.16367752, 1.62860153, 3.91864373, 4.99633854,\n",
       "       4.28712952, 5.30350848, 2.28748824, 1.27574511, 4.52897774,\n",
       "       4.16815252, 3.81087796, 3.77923722, 0.88218251, 4.18608271,\n",
       "       3.64004218, 3.4009685 , 3.50443648, 6.47222641, 2.45089415,\n",
       "       3.78737313, 3.19802823, 0.77139624, 0.73867617, 4.18898129,\n",
       "       0.35732538, 4.14375231, 1.78755015, 4.22867987, 1.58886122,\n",
       "       1.52527881, 1.68364704, 1.9102231 , 1.93252073, 1.8387505 ,\n",
       "       0.51011435, 0.91307809, 3.78517837, 1.47462949, 1.12132988,\n",
       "       0.99188249, 4.2442295 , 3.68159512, 1.24980378, 3.13939697,\n",
       "       1.67088926, 1.21197239, 3.80145514, 0.97280091, 3.66737951,\n",
       "       2.11867854, 1.04271828, 5.17386426, 3.25239768, 2.98079614,\n",
       "       0.60433078, 1.06214716, 1.1311379 , 0.31580725, 2.59794864,\n",
       "       0.9713387 , 1.51328168, 4.62633639, 3.52568132, 4.84862546])"
      ]
     },
     "execution_count": 16,
     "metadata": {},
     "output_type": "execute_result"
    }
   ],
   "source": [
    "dist1"
   ]
  },
  {
   "cell_type": "code",
   "execution_count": 17,
   "metadata": {},
   "outputs": [],
   "source": [
    "dist2 = np.sqrt((cent2[0] - x[:,0])**2 + (cent2[1] - x[:,1])**2)"
   ]
  },
  {
   "cell_type": "code",
   "execution_count": 26,
   "metadata": {},
   "outputs": [
    {
     "data": {
      "text/plain": [
       "array([6.38147445e+00, 5.52900548e+00, 4.52897774e+00, 1.42584386e+00,\n",
       "       2.22813277e+00, 4.12164651e+00, 3.34504372e+00, 1.52489281e+00,\n",
       "       3.75658739e+00, 1.16314422e+00, 3.67128963e+00, 1.25217450e+00,\n",
       "       1.90896786e+00, 1.34156880e+00, 2.34442792e+00, 4.89869146e+00,\n",
       "       1.53452642e+00, 1.78775736e+00, 5.80454916e+00, 1.20242511e+00,\n",
       "       4.28605631e+00, 4.83008208e+00, 3.09870169e-01, 1.42981976e+00,\n",
       "       5.59627519e+00, 1.95274031e+00, 5.71095074e+00, 2.04784625e+00,\n",
       "       2.48606226e+00, 2.28968133e+00, 3.82801553e+00, 5.06910761e+00,\n",
       "       4.84501258e+00, 5.35771161e+00, 7.84824827e+00, 5.32665425e+00,\n",
       "       1.28298922e+00, 6.15582084e+00, 6.13016571e-01, 2.80153501e+00,\n",
       "       6.74352529e-01, 1.30743721e+00, 2.27376567e+00, 5.80453561e+00,\n",
       "       6.19547665e-09, 2.66419421e+00, 8.24048173e+00, 2.56388353e+00,\n",
       "       3.65411920e+00, 4.26025534e-01, 8.92249984e-01, 1.82773816e+00,\n",
       "       1.03171468e+00, 2.07961823e+00, 2.07971772e+00, 2.34411710e+00,\n",
       "       2.45201958e+00, 3.82737201e+00, 5.15906554e+00, 3.40822062e-01,\n",
       "       4.44876556e+00, 2.64975667e+00, 3.66513753e+00, 1.23269869e+00,\n",
       "       5.85013200e+00, 5.59886936e+00, 5.30848173e+00, 5.88371506e+00,\n",
       "       6.12951360e+00, 6.10758085e+00, 4.97295373e+00, 5.28536229e+00,\n",
       "       1.61631015e+00, 4.16595731e+00, 3.79342162e+00, 5.46095109e+00,\n",
       "       6.80836165e-01, 9.86646770e-01, 5.67026345e+00, 7.54285000e+00,\n",
       "       5.22284663e+00, 5.72471039e+00, 3.98644366e+00, 3.95490643e+00,\n",
       "       9.86753149e-01, 2.72763193e+00, 5.51019445e+00, 6.45502525e-01,\n",
       "       2.45699939e+00, 6.91618255e+00, 5.11362779e+00, 3.55132929e+00,\n",
       "       5.29451572e+00, 4.36253494e+00, 1.98899017e+00, 4.45473706e+00,\n",
       "       3.01676389e+00, 4.46969192e-01, 1.03141464e+00, 1.91770497e+00])"
      ]
     },
     "execution_count": 26,
     "metadata": {},
     "output_type": "execute_result"
    }
   ],
   "source": [
    "dist2   "
   ]
  },
  {
   "cell_type": "code",
   "execution_count": 30,
   "metadata": {},
   "outputs": [
    {
     "data": {
      "text/html": [
       "<div>\n",
       "<style scoped>\n",
       "    .dataframe tbody tr th:only-of-type {\n",
       "        vertical-align: middle;\n",
       "    }\n",
       "\n",
       "    .dataframe tbody tr th {\n",
       "        vertical-align: top;\n",
       "    }\n",
       "\n",
       "    .dataframe thead th {\n",
       "        text-align: right;\n",
       "    }\n",
       "</style>\n",
       "<table border=\"1\" class=\"dataframe\">\n",
       "  <thead>\n",
       "    <tr style=\"text-align: right;\">\n",
       "      <th></th>\n",
       "      <th>col_1</th>\n",
       "      <th>col_2</th>\n",
       "      <th>dist_1</th>\n",
       "      <th>dist_2</th>\n",
       "    </tr>\n",
       "  </thead>\n",
       "  <tbody>\n",
       "    <tr>\n",
       "      <th>0</th>\n",
       "      <td>1.898514</td>\n",
       "      <td>2.028480</td>\n",
       "      <td>1.923954</td>\n",
       "      <td>6.381474</td>\n",
       "    </tr>\n",
       "    <tr>\n",
       "      <th>1</th>\n",
       "      <td>2.437308</td>\n",
       "      <td>2.698947</td>\n",
       "      <td>1.156002</td>\n",
       "      <td>5.529005</td>\n",
       "    </tr>\n",
       "    <tr>\n",
       "      <th>2</th>\n",
       "      <td>2.510048</td>\n",
       "      <td>3.852658</td>\n",
       "      <td>0.000000</td>\n",
       "      <td>4.528978</td>\n",
       "    </tr>\n",
       "    <tr>\n",
       "      <th>3</th>\n",
       "      <td>6.644061</td>\n",
       "      <td>7.167638</td>\n",
       "      <td>5.298977</td>\n",
       "      <td>1.425844</td>\n",
       "    </tr>\n",
       "    <tr>\n",
       "      <th>4</th>\n",
       "      <td>4.462413</td>\n",
       "      <td>5.375084</td>\n",
       "      <td>2.475785</td>\n",
       "      <td>2.228133</td>\n",
       "    </tr>\n",
       "  </tbody>\n",
       "</table>\n",
       "</div>"
      ],
      "text/plain": [
       "      col_1     col_2    dist_1    dist_2\n",
       "0  1.898514  2.028480  1.923954  6.381474\n",
       "1  2.437308  2.698947  1.156002  5.529005\n",
       "2  2.510048  3.852658  0.000000  4.528978\n",
       "3  6.644061  7.167638  5.298977  1.425844\n",
       "4  4.462413  5.375084  2.475785  2.228133"
      ]
     },
     "execution_count": 30,
     "metadata": {},
     "output_type": "execute_result"
    }
   ],
   "source": [
    "df = pd.DataFrame(x, columns=[\"col_1\",\"col_2\"])\n",
    "df[\"dist_1\"] = dist1\n",
    "df[\"dist_2\"] = dist2\n",
    "df.head()"
   ]
  },
  {
   "cell_type": "code",
   "execution_count": 33,
   "metadata": {},
   "outputs": [
    {
     "data": {
      "image/png": "[encoded data removed]",
      "text/plain": [
       "<Figure size 432x288 with 1 Axes>"
      ]
     },
     "metadata": {
      "needs_background": "light"
     },
     "output_type": "display_data"
    }
   ],
   "source": [
    "plt.scatter(x[:,0], x[:,1])\n",
    "plt.scatter([cent1[0], cent2[0]], [cent1[1], cent2[1]], color=\"red\")\n",
    "plt.show()"
   ]
  },
  {
   "cell_type": "code",
   "execution_count": 51,
   "metadata": {},
   "outputs": [
    {
     "data": {
      "text/plain": [
       "0"
      ]
     },
     "execution_count": 51,
     "metadata": {},
     "output_type": "execute_result"
    }
   ],
   "source": [
    "# Find which data point is near from which center\n",
    "np.argmin([1.15600199, 5.52900548e+00])"
   ]
  },
  {
   "cell_type": "code",
   "execution_count": 55,
   "metadata": {},
   "outputs": [
    {
     "data": {
      "text/plain": [
       "1"
      ]
     },
     "execution_count": 55,
     "metadata": {},
     "output_type": "execute_result"
    }
   ],
   "source": [
    "np.argmin([5.2989770129215925, 1.4258438571938956])"
   ]
  },
  {
   "cell_type": "code",
   "execution_count": 64,
   "metadata": {},
   "outputs": [
    {
     "data": {
      "text/plain": [
       "0"
      ]
     },
     "execution_count": 64,
     "metadata": {},
     "output_type": "execute_result"
    }
   ],
   "source": [
    "np.argmin(df[[\"dist_1\",\"dist_2\"]].iloc[0])"
   ]
  },
  {
   "cell_type": "code",
   "execution_count": 72,
   "metadata": {},
   "outputs": [
    {
     "data": {
      "text/plain": [
       "[0,\n",
       " 0,\n",
       " 0,\n",
       " 1,\n",
       " 1,\n",
       " 0,\n",
       " 0,\n",
       " 1,\n",
       " 0,\n",
       " 1,\n",
       " 1,\n",
       " 1,\n",
       " 1,\n",
       " 1,\n",
       " 1,\n",
       " 0,\n",
       " 1,\n",
       " 1,\n",
       " 0,\n",
       " 1,\n",
       " 0,\n",
       " 0,\n",
       " 1,\n",
       " 1,\n",
       " 0,\n",
       " 1,\n",
       " 0,\n",
       " 1,\n",
       " 1,\n",
       " 1,\n",
       " 0,\n",
       " 0,\n",
       " 0,\n",
       " 0,\n",
       " 0,\n",
       " 0,\n",
       " 1,\n",
       " 0,\n",
       " 1,\n",
       " 1,\n",
       " 1,\n",
       " 1,\n",
       " 1,\n",
       " 0,\n",
       " 1,\n",
       " 1,\n",
       " 0,\n",
       " 1,\n",
       " 0,\n",
       " 1,\n",
       " 1,\n",
       " 1,\n",
       " 1,\n",
       " 1,\n",
       " 1,\n",
       " 1,\n",
       " 1,\n",
       " 0,\n",
       " 0,\n",
       " 1,\n",
       " 0,\n",
       " 1,\n",
       " 0,\n",
       " 1,\n",
       " 0,\n",
       " 0,\n",
       " 0,\n",
       " 0,\n",
       " 0,\n",
       " 0,\n",
       " 0,\n",
       " 0,\n",
       " 1,\n",
       " 0,\n",
       " 0,\n",
       " 0,\n",
       " 1,\n",
       " 1,\n",
       " 0,\n",
       " 0,\n",
       " 0,\n",
       " 0,\n",
       " 0,\n",
       " 0,\n",
       " 1,\n",
       " 0,\n",
       " 0,\n",
       " 1,\n",
       " 1,\n",
       " 0,\n",
       " 0,\n",
       " 0,\n",
       " 0,\n",
       " 0,\n",
       " 1,\n",
       " 0,\n",
       " 0,\n",
       " 1,\n",
       " 1,\n",
       " 1]"
      ]
     },
     "execution_count": 72,
     "metadata": {},
     "output_type": "execute_result"
    }
   ],
   "source": [
    "centers = [np.argmin(df[[\"dist_1\",\"dist_2\"]].iloc[i]) for i in range(len(df))]\n",
    "centers"
   ]
  },
  {
   "cell_type": "code",
   "execution_count": 75,
   "metadata": {},
   "outputs": [
    {
     "data": {
      "text/html": [
       "<div>\n",
       "<style scoped>\n",
       "    .dataframe tbody tr th:only-of-type {\n",
       "        vertical-align: middle;\n",
       "    }\n",
       "\n",
       "    .dataframe tbody tr th {\n",
       "        vertical-align: top;\n",
       "    }\n",
       "\n",
       "    .dataframe thead th {\n",
       "        text-align: right;\n",
       "    }\n",
       "</style>\n",
       "<table border=\"1\" class=\"dataframe\">\n",
       "  <thead>\n",
       "    <tr style=\"text-align: right;\">\n",
       "      <th></th>\n",
       "      <th>col_1</th>\n",
       "      <th>col_2</th>\n",
       "      <th>dist_1</th>\n",
       "      <th>dist_2</th>\n",
       "      <th>centers</th>\n",
       "    </tr>\n",
       "  </thead>\n",
       "  <tbody>\n",
       "    <tr>\n",
       "      <th>0</th>\n",
       "      <td>1.898514</td>\n",
       "      <td>2.028480</td>\n",
       "      <td>1.923954</td>\n",
       "      <td>6.381474</td>\n",
       "      <td>0</td>\n",
       "    </tr>\n",
       "    <tr>\n",
       "      <th>1</th>\n",
       "      <td>2.437308</td>\n",
       "      <td>2.698947</td>\n",
       "      <td>1.156002</td>\n",
       "      <td>5.529005</td>\n",
       "      <td>0</td>\n",
       "    </tr>\n",
       "    <tr>\n",
       "      <th>2</th>\n",
       "      <td>2.510048</td>\n",
       "      <td>3.852658</td>\n",
       "      <td>0.000000</td>\n",
       "      <td>4.528978</td>\n",
       "      <td>0</td>\n",
       "    </tr>\n",
       "    <tr>\n",
       "      <th>3</th>\n",
       "      <td>6.644061</td>\n",
       "      <td>7.167638</td>\n",
       "      <td>5.298977</td>\n",
       "      <td>1.425844</td>\n",
       "      <td>1</td>\n",
       "    </tr>\n",
       "    <tr>\n",
       "      <th>4</th>\n",
       "      <td>4.462413</td>\n",
       "      <td>5.375084</td>\n",
       "      <td>2.475785</td>\n",
       "      <td>2.228133</td>\n",
       "      <td>1</td>\n",
       "    </tr>\n",
       "  </tbody>\n",
       "</table>\n",
       "</div>"
      ],
      "text/plain": [
       "      col_1     col_2    dist_1    dist_2  centers\n",
       "0  1.898514  2.028480  1.923954  6.381474        0\n",
       "1  2.437308  2.698947  1.156002  5.529005        0\n",
       "2  2.510048  3.852658  0.000000  4.528978        0\n",
       "3  6.644061  7.167638  5.298977  1.425844        1\n",
       "4  4.462413  5.375084  2.475785  2.228133        1"
      ]
     },
     "execution_count": 75,
     "metadata": {},
     "output_type": "execute_result"
    }
   ],
   "source": [
    "df[\"centers\"] = centers\n",
    "df.head()"
   ]
  },
  {
   "cell_type": "code",
   "execution_count": 79,
   "metadata": {},
   "outputs": [
    {
     "data": {
      "image/png": "[encoded data removed]",
      "text/plain": [
       "<Figure size 432x288 with 1 Axes>"
      ]
     },
     "metadata": {
      "needs_background": "light"
     },
     "output_type": "display_data"
    }
   ],
   "source": [
    "plt.scatter(x[df[\"centers\"]==0,0], x[df[\"centers\"]==0,1], color=\"red\")\n",
    "plt.scatter(x[df[\"centers\"]==1,0], x[df[\"centers\"]==1,1], color=\"yellow\")\n",
    "plt.scatter([cent1[0], cent2[0]], [cent1[1], cent2[1]], color=\"black\")\n",
    "plt.show()"
   ]
  },
  {
   "cell_type": "code",
   "execution_count": 81,
   "metadata": {},
   "outputs": [
    {
     "data": {
      "text/plain": [
       "col_1      2.265423\n",
       "col_2      3.493183\n",
       "dist_1     1.389353\n",
       "dist_2     5.069728\n",
       "centers    0.000000\n",
       "dtype: float64"
      ]
     },
     "execution_count": 81,
     "metadata": {},
     "output_type": "execute_result"
    }
   ],
   "source": [
    "# Step 4 : Find the means of data that belogs to center = 0 and center = 1\n",
    "df[df[\"centers\"]==0].mean()"
   ]
  },
  {
   "cell_type": "code",
   "execution_count": 82,
   "metadata": {},
   "outputs": [],
   "source": [
    "df.drop([\"dist_1\",\"dist_2\"], axis=1, inplace=True)"
   ]
  },
  {
   "cell_type": "code",
   "execution_count": 84,
   "metadata": {},
   "outputs": [
    {
     "data": {
      "text/plain": [
       "col_1    2.265423\n",
       "col_2    3.493183\n",
       "dtype: float64"
      ]
     },
     "execution_count": 84,
     "metadata": {},
     "output_type": "execute_result"
    }
   ],
   "source": [
    "df[[\"col_1\",\"col_2\"]][df[\"centers\"]==0].mean()"
   ]
  },
  {
   "cell_type": "code",
   "execution_count": 85,
   "metadata": {},
   "outputs": [
    {
     "data": {
      "text/plain": [
       "col_1    5.507439\n",
       "col_2    6.360580\n",
       "dtype: float64"
      ]
     },
     "execution_count": 85,
     "metadata": {},
     "output_type": "execute_result"
    }
   ],
   "source": [
    "df[[\"col_1\",\"col_2\"]][df[\"centers\"]==1].mean()"
   ]
  },
  {
   "cell_type": "code",
   "execution_count": 86,
   "metadata": {},
   "outputs": [
    {
     "data": {
      "text/plain": [
       "(col_1    2.265423\n",
       " col_2    3.493183\n",
       " dtype: float64,\n",
       " col_1    5.507439\n",
       " col_2    6.360580\n",
       " dtype: float64)"
      ]
     },
     "execution_count": 86,
     "metadata": {},
     "output_type": "execute_result"
    }
   ],
   "source": [
    "new_cent1 = df[[\"col_1\",\"col_2\"]][df[\"centers\"]==0].mean()\n",
    "new_cent2 = df[[\"col_1\",\"col_2\"]][df[\"centers\"]==1].mean()\n",
    "new_cent1, new_cent2"
   ]
  },
  {
   "cell_type": "code",
   "execution_count": 118,
   "metadata": {},
   "outputs": [
    {
     "data": {
      "image/png": "[encoded data removed]",
      "text/plain": [
       "<Figure size 504x360 with 1 Axes>"
      ]
     },
     "metadata": {
      "needs_background": "light"
     },
     "output_type": "display_data"
    }
   ],
   "source": [
    "plt.figure(figsize=(7,5))\n",
    "plt.scatter(x[df[\"centers\"]==0,0], x[df[\"centers\"]==0,1], color=\"red\")\n",
    "plt.scatter(x[df[\"centers\"]==1,0], x[df[\"centers\"]==1,1], color=\"yellow\")\n",
    "plt.scatter([cent1[0], cent2[0]], [cent1[1], cent2[1]], color=\"black\")\n",
    "plt.scatter([new_cent1[0], new_cent2[0]], [new_cent1[1], new_cent2[1]], marker=\"*\", color=\"blue\")\n",
    "plt.show()"
   ]
  },
  {
   "cell_type": "code",
   "execution_count": 88,
   "metadata": {},
   "outputs": [
    {
     "data": {
      "text/html": [
       "<div>\n",
       "<style scoped>\n",
       "    .dataframe tbody tr th:only-of-type {\n",
       "        vertical-align: middle;\n",
       "    }\n",
       "\n",
       "    .dataframe tbody tr th {\n",
       "        vertical-align: top;\n",
       "    }\n",
       "\n",
       "    .dataframe thead th {\n",
       "        text-align: right;\n",
       "    }\n",
       "</style>\n",
       "<table border=\"1\" class=\"dataframe\">\n",
       "  <thead>\n",
       "    <tr style=\"text-align: right;\">\n",
       "      <th></th>\n",
       "      <th>col_1</th>\n",
       "      <th>col_2</th>\n",
       "      <th>centers</th>\n",
       "    </tr>\n",
       "  </thead>\n",
       "  <tbody>\n",
       "    <tr>\n",
       "      <th>0</th>\n",
       "      <td>1.898514</td>\n",
       "      <td>2.028480</td>\n",
       "      <td>0</td>\n",
       "    </tr>\n",
       "    <tr>\n",
       "      <th>1</th>\n",
       "      <td>2.437308</td>\n",
       "      <td>2.698947</td>\n",
       "      <td>0</td>\n",
       "    </tr>\n",
       "    <tr>\n",
       "      <th>2</th>\n",
       "      <td>2.510048</td>\n",
       "      <td>3.852658</td>\n",
       "      <td>0</td>\n",
       "    </tr>\n",
       "    <tr>\n",
       "      <th>3</th>\n",
       "      <td>6.644061</td>\n",
       "      <td>7.167638</td>\n",
       "      <td>1</td>\n",
       "    </tr>\n",
       "    <tr>\n",
       "      <th>4</th>\n",
       "      <td>4.462413</td>\n",
       "      <td>5.375084</td>\n",
       "      <td>1</td>\n",
       "    </tr>\n",
       "  </tbody>\n",
       "</table>\n",
       "</div>"
      ],
      "text/plain": [
       "      col_1     col_2  centers\n",
       "0  1.898514  2.028480        0\n",
       "1  2.437308  2.698947        0\n",
       "2  2.510048  3.852658        0\n",
       "3  6.644061  7.167638        1\n",
       "4  4.462413  5.375084        1"
      ]
     },
     "execution_count": 88,
     "metadata": {},
     "output_type": "execute_result"
    }
   ],
   "source": [
    "df.head()"
   ]
  },
  {
   "cell_type": "code",
   "execution_count": 106,
   "metadata": {},
   "outputs": [],
   "source": [
    "# To find ajun new dist.\n",
    "\n",
    "dist1 = np.sqrt((new_cent1[0] - x[:,0])**2 + (new_cent1[1] - x[:,1])**2)\n",
    "dist2 = np.sqrt((new_cent2[0] - x[:,0])**2 + (new_cent2[1] - x[:,1])**2)"
   ]
  },
  {
   "cell_type": "code",
   "execution_count": 107,
   "metadata": {},
   "outputs": [
    {
     "data": {
      "text/html": [
       "<div>\n",
       "<style scoped>\n",
       "    .dataframe tbody tr th:only-of-type {\n",
       "        vertical-align: middle;\n",
       "    }\n",
       "\n",
       "    .dataframe tbody tr th {\n",
       "        vertical-align: top;\n",
       "    }\n",
       "\n",
       "    .dataframe thead th {\n",
       "        text-align: right;\n",
       "    }\n",
       "</style>\n",
       "<table border=\"1\" class=\"dataframe\">\n",
       "  <thead>\n",
       "    <tr style=\"text-align: right;\">\n",
       "      <th></th>\n",
       "      <th>col_1</th>\n",
       "      <th>col_2</th>\n",
       "      <th>centers</th>\n",
       "      <th>new_centers</th>\n",
       "      <th>dist_1</th>\n",
       "      <th>dist_2</th>\n",
       "    </tr>\n",
       "  </thead>\n",
       "  <tbody>\n",
       "    <tr>\n",
       "      <th>0</th>\n",
       "      <td>1.898514</td>\n",
       "      <td>2.028480</td>\n",
       "      <td>0</td>\n",
       "      <td>0</td>\n",
       "      <td>1.509959</td>\n",
       "      <td>5.638389</td>\n",
       "    </tr>\n",
       "    <tr>\n",
       "      <th>1</th>\n",
       "      <td>2.437308</td>\n",
       "      <td>2.698947</td>\n",
       "      <td>0</td>\n",
       "      <td>0</td>\n",
       "      <td>0.812623</td>\n",
       "      <td>4.778416</td>\n",
       "    </tr>\n",
       "    <tr>\n",
       "      <th>2</th>\n",
       "      <td>2.510048</td>\n",
       "      <td>3.852658</td>\n",
       "      <td>0</td>\n",
       "      <td>0</td>\n",
       "      <td>0.434814</td>\n",
       "      <td>3.908200</td>\n",
       "    </tr>\n",
       "    <tr>\n",
       "      <th>3</th>\n",
       "      <td>6.644061</td>\n",
       "      <td>7.167638</td>\n",
       "      <td>1</td>\n",
       "      <td>1</td>\n",
       "      <td>5.716125</td>\n",
       "      <td>1.394006</td>\n",
       "    </tr>\n",
       "    <tr>\n",
       "      <th>4</th>\n",
       "      <td>4.462413</td>\n",
       "      <td>5.375084</td>\n",
       "      <td>1</td>\n",
       "      <td>1</td>\n",
       "      <td>2.892804</td>\n",
       "      <td>1.436413</td>\n",
       "    </tr>\n",
       "  </tbody>\n",
       "</table>\n",
       "</div>"
      ],
      "text/plain": [
       "      col_1     col_2  centers  new_centers    dist_1    dist_2\n",
       "0  1.898514  2.028480        0            0  1.509959  5.638389\n",
       "1  2.437308  2.698947        0            0  0.812623  4.778416\n",
       "2  2.510048  3.852658        0            0  0.434814  3.908200\n",
       "3  6.644061  7.167638        1            1  5.716125  1.394006\n",
       "4  4.462413  5.375084        1            1  2.892804  1.436413"
      ]
     },
     "execution_count": 107,
     "metadata": {},
     "output_type": "execute_result"
    }
   ],
   "source": [
    "df[\"dist_1\"] = dist1\n",
    "df[\"dist_2\"] = dist2\n",
    "df.head()"
   ]
  },
  {
   "cell_type": "code",
   "execution_count": 108,
   "metadata": {},
   "outputs": [
    {
     "data": {
      "text/plain": [
       "[0,\n",
       " 0,\n",
       " 0,\n",
       " 1,\n",
       " 1,\n",
       " 0,\n",
       " 0,\n",
       " 1,\n",
       " 0,\n",
       " 1,\n",
       " 1,\n",
       " 1,\n",
       " 1,\n",
       " 1,\n",
       " 1,\n",
       " 0,\n",
       " 1,\n",
       " 1,\n",
       " 0,\n",
       " 1,\n",
       " 0,\n",
       " 0,\n",
       " 1,\n",
       " 1,\n",
       " 0,\n",
       " 1,\n",
       " 0,\n",
       " 1,\n",
       " 1,\n",
       " 1,\n",
       " 0,\n",
       " 0,\n",
       " 0,\n",
       " 0,\n",
       " 0,\n",
       " 0,\n",
       " 1,\n",
       " 0,\n",
       " 1,\n",
       " 1,\n",
       " 1,\n",
       " 1,\n",
       " 1,\n",
       " 0,\n",
       " 1,\n",
       " 1,\n",
       " 0,\n",
       " 1,\n",
       " 0,\n",
       " 1,\n",
       " 1,\n",
       " 1,\n",
       " 1,\n",
       " 1,\n",
       " 1,\n",
       " 1,\n",
       " 1,\n",
       " 0,\n",
       " 0,\n",
       " 1,\n",
       " 0,\n",
       " 1,\n",
       " 0,\n",
       " 1,\n",
       " 0,\n",
       " 0,\n",
       " 0,\n",
       " 0,\n",
       " 0,\n",
       " 0,\n",
       " 0,\n",
       " 0,\n",
       " 1,\n",
       " 0,\n",
       " 0,\n",
       " 0,\n",
       " 1,\n",
       " 1,\n",
       " 0,\n",
       " 0,\n",
       " 0,\n",
       " 0,\n",
       " 1,\n",
       " 0,\n",
       " 1,\n",
       " 1,\n",
       " 0,\n",
       " 1,\n",
       " 1,\n",
       " 0,\n",
       " 0,\n",
       " 0,\n",
       " 0,\n",
       " 0,\n",
       " 1,\n",
       " 0,\n",
       " 0,\n",
       " 1,\n",
       " 1,\n",
       " 1]"
      ]
     },
     "execution_count": 108,
     "metadata": {},
     "output_type": "execute_result"
    }
   ],
   "source": [
    "new_centers = [np.argmin(df[[\"dist_1\",\"dist_2\"]].iloc[i]) for i in range(len(df))]\n",
    "new_centers"
   ]
  },
  {
   "cell_type": "code",
   "execution_count": 109,
   "metadata": {},
   "outputs": [
    {
     "data": {
      "text/html": [
       "<div>\n",
       "<style scoped>\n",
       "    .dataframe tbody tr th:only-of-type {\n",
       "        vertical-align: middle;\n",
       "    }\n",
       "\n",
       "    .dataframe tbody tr th {\n",
       "        vertical-align: top;\n",
       "    }\n",
       "\n",
       "    .dataframe thead th {\n",
       "        text-align: right;\n",
       "    }\n",
       "</style>\n",
       "<table border=\"1\" class=\"dataframe\">\n",
       "  <thead>\n",
       "    <tr style=\"text-align: right;\">\n",
       "      <th></th>\n",
       "      <th>col_1</th>\n",
       "      <th>col_2</th>\n",
       "      <th>centers</th>\n",
       "      <th>new_centers</th>\n",
       "      <th>dist_1</th>\n",
       "      <th>dist_2</th>\n",
       "    </tr>\n",
       "  </thead>\n",
       "  <tbody>\n",
       "    <tr>\n",
       "      <th>0</th>\n",
       "      <td>1.898514</td>\n",
       "      <td>2.028480</td>\n",
       "      <td>0</td>\n",
       "      <td>0</td>\n",
       "      <td>1.509959</td>\n",
       "      <td>5.638389</td>\n",
       "    </tr>\n",
       "    <tr>\n",
       "      <th>1</th>\n",
       "      <td>2.437308</td>\n",
       "      <td>2.698947</td>\n",
       "      <td>0</td>\n",
       "      <td>0</td>\n",
       "      <td>0.812623</td>\n",
       "      <td>4.778416</td>\n",
       "    </tr>\n",
       "    <tr>\n",
       "      <th>2</th>\n",
       "      <td>2.510048</td>\n",
       "      <td>3.852658</td>\n",
       "      <td>0</td>\n",
       "      <td>0</td>\n",
       "      <td>0.434814</td>\n",
       "      <td>3.908200</td>\n",
       "    </tr>\n",
       "    <tr>\n",
       "      <th>3</th>\n",
       "      <td>6.644061</td>\n",
       "      <td>7.167638</td>\n",
       "      <td>1</td>\n",
       "      <td>1</td>\n",
       "      <td>5.716125</td>\n",
       "      <td>1.394006</td>\n",
       "    </tr>\n",
       "    <tr>\n",
       "      <th>4</th>\n",
       "      <td>4.462413</td>\n",
       "      <td>5.375084</td>\n",
       "      <td>1</td>\n",
       "      <td>1</td>\n",
       "      <td>2.892804</td>\n",
       "      <td>1.436413</td>\n",
       "    </tr>\n",
       "  </tbody>\n",
       "</table>\n",
       "</div>"
      ],
      "text/plain": [
       "      col_1     col_2  centers  new_centers    dist_1    dist_2\n",
       "0  1.898514  2.028480        0            0  1.509959  5.638389\n",
       "1  2.437308  2.698947        0            0  0.812623  4.778416\n",
       "2  2.510048  3.852658        0            0  0.434814  3.908200\n",
       "3  6.644061  7.167638        1            1  5.716125  1.394006\n",
       "4  4.462413  5.375084        1            1  2.892804  1.436413"
      ]
     },
     "execution_count": 109,
     "metadata": {},
     "output_type": "execute_result"
    }
   ],
   "source": [
    "df[\"new_centers\"] = new_centers\n",
    "df.head()"
   ]
  },
  {
   "cell_type": "code",
   "execution_count": 110,
   "metadata": {},
   "outputs": [
    {
     "data": {
      "text/html": [
       "<div>\n",
       "<style scoped>\n",
       "    .dataframe tbody tr th:only-of-type {\n",
       "        vertical-align: middle;\n",
       "    }\n",
       "\n",
       "    .dataframe tbody tr th {\n",
       "        vertical-align: top;\n",
       "    }\n",
       "\n",
       "    .dataframe thead th {\n",
       "        text-align: right;\n",
       "    }\n",
       "</style>\n",
       "<table border=\"1\" class=\"dataframe\">\n",
       "  <thead>\n",
       "    <tr style=\"text-align: right;\">\n",
       "      <th></th>\n",
       "      <th>col_1</th>\n",
       "      <th>col_2</th>\n",
       "      <th>centers</th>\n",
       "      <th>new_centers</th>\n",
       "    </tr>\n",
       "  </thead>\n",
       "  <tbody>\n",
       "    <tr>\n",
       "      <th>0</th>\n",
       "      <td>1.898514</td>\n",
       "      <td>2.028480</td>\n",
       "      <td>0</td>\n",
       "      <td>0</td>\n",
       "    </tr>\n",
       "    <tr>\n",
       "      <th>1</th>\n",
       "      <td>2.437308</td>\n",
       "      <td>2.698947</td>\n",
       "      <td>0</td>\n",
       "      <td>0</td>\n",
       "    </tr>\n",
       "    <tr>\n",
       "      <th>2</th>\n",
       "      <td>2.510048</td>\n",
       "      <td>3.852658</td>\n",
       "      <td>0</td>\n",
       "      <td>0</td>\n",
       "    </tr>\n",
       "    <tr>\n",
       "      <th>3</th>\n",
       "      <td>6.644061</td>\n",
       "      <td>7.167638</td>\n",
       "      <td>1</td>\n",
       "      <td>1</td>\n",
       "    </tr>\n",
       "    <tr>\n",
       "      <th>4</th>\n",
       "      <td>4.462413</td>\n",
       "      <td>5.375084</td>\n",
       "      <td>1</td>\n",
       "      <td>1</td>\n",
       "    </tr>\n",
       "  </tbody>\n",
       "</table>\n",
       "</div>"
      ],
      "text/plain": [
       "      col_1     col_2  centers  new_centers\n",
       "0  1.898514  2.028480        0            0\n",
       "1  2.437308  2.698947        0            0\n",
       "2  2.510048  3.852658        0            0\n",
       "3  6.644061  7.167638        1            1\n",
       "4  4.462413  5.375084        1            1"
      ]
     },
     "execution_count": 110,
     "metadata": {},
     "output_type": "execute_result"
    }
   ],
   "source": [
    "df.drop([\"dist_1\",\"dist_2\"], axis=1, inplace=True)\n",
    "df.head()"
   ]
  },
  {
   "cell_type": "code",
   "execution_count": 112,
   "metadata": {},
   "outputs": [
    {
     "data": {
      "text/plain": [
       "(col_1    2.142698\n",
       " col_2    3.462993\n",
       " dtype: float64,\n",
       " col_1    5.500483\n",
       " col_2    6.276074\n",
       " dtype: float64)"
      ]
     },
     "execution_count": 112,
     "metadata": {},
     "output_type": "execute_result"
    }
   ],
   "source": [
    "new_cent11 = df[[\"col_1\",\"col_2\"]][df[\"new_centers\"]==0].mean()\n",
    "new_cent12 = df[[\"col_1\",\"col_2\"]][df[\"new_centers\"]==1].mean()\n",
    "new_cent11, new_cent12"
   ]
  },
  {
   "cell_type": "code",
   "execution_count": 122,
   "metadata": {},
   "outputs": [
    {
     "data": {
      "image/png": "[encoded data removed]",
      "text/plain": [
       "<Figure size 504x432 with 1 Axes>"
      ]
     },
     "metadata": {
      "needs_background": "light"
     },
     "output_type": "display_data"
    }
   ],
   "source": [
    "# Exactly nearest cent of previos cent:  Done \n",
    "\n",
    "plt.figure(figsize=(7,6))\n",
    "plt.scatter(x[df[\"centers\"]==0,0], x[df[\"centers\"]==0,1], color=\"red\")\n",
    "plt.scatter(x[df[\"centers\"]==1,0], x[df[\"centers\"]==1,1], color=\"yellow\")\n",
    "plt.scatter([cent1[0], cent2[0]], [cent1[1], cent2[1]], color=\"black\")\n",
    "plt.scatter([new_cent1[0], new_cent2[0]], [new_cent1[1], new_cent2[1]], marker=\"*\", color=\"blue\")\n",
    "plt.scatter([new_cent11[0], new_cent12[0]], [new_cent11[1], new_cent12[1]], marker=\"*\", color=\"green\")\n",
    "plt.show()"
   ]
  },
  {
   "cell_type": "markdown",
   "metadata": {},
   "source": [
    "# All steps:"
   ]
  },
  {
   "cell_type": "code",
   "execution_count": 123,
   "metadata": {},
   "outputs": [],
   "source": [
    "# Step 1 -> Assign random centers (considered min and max data points)\n",
    "# Step 2 -> Find the distance of every point from all centers - Euclidean Distance\n",
    "# Step 3 -> Find which data points nearer from which center\n",
    "# Step 4 -> Find the means of centers (center=0 and center=1)\n",
    "\n",
    "# Repeat step 2, 3 and 4 till not get best center points"
   ]
  },
  {
   "cell_type": "code",
   "execution_count": 124,
   "metadata": {},
   "outputs": [],
   "source": [
    "from sklearn.cluster import KMeans"
   ]
  },
  {
   "cell_type": "code",
   "execution_count": 125,
   "metadata": {},
   "outputs": [],
   "source": [
    "km = KMeans(n_clusters=2)"
   ]
  },
  {
   "cell_type": "code",
   "execution_count": 126,
   "metadata": {},
   "outputs": [
    {
     "data": {
      "text/plain": [
       "KMeans(n_clusters=2)"
      ]
     },
     "execution_count": 126,
     "metadata": {},
     "output_type": "execute_result"
    }
   ],
   "source": [
    "km"
   ]
  },
  {
   "cell_type": "code",
   "execution_count": 127,
   "metadata": {},
   "outputs": [],
   "source": [
    "sk_centers = km.fit_predict(df[[\"col_1\",\"col_2\"]])"
   ]
  },
  {
   "cell_type": "code",
   "execution_count": 128,
   "metadata": {},
   "outputs": [],
   "source": [
    "df[\"sklearn_centers\"] = sk_centers"
   ]
  },
  {
   "cell_type": "code",
   "execution_count": 129,
   "metadata": {},
   "outputs": [
    {
     "data": {
      "text/html": [
       "<div>\n",
       "<style scoped>\n",
       "    .dataframe tbody tr th:only-of-type {\n",
       "        vertical-align: middle;\n",
       "    }\n",
       "\n",
       "    .dataframe tbody tr th {\n",
       "        vertical-align: top;\n",
       "    }\n",
       "\n",
       "    .dataframe thead th {\n",
       "        text-align: right;\n",
       "    }\n",
       "</style>\n",
       "<table border=\"1\" class=\"dataframe\">\n",
       "  <thead>\n",
       "    <tr style=\"text-align: right;\">\n",
       "      <th></th>\n",
       "      <th>col_1</th>\n",
       "      <th>col_2</th>\n",
       "      <th>centers</th>\n",
       "      <th>new_centers</th>\n",
       "      <th>sklearn_centers</th>\n",
       "    </tr>\n",
       "  </thead>\n",
       "  <tbody>\n",
       "    <tr>\n",
       "      <th>0</th>\n",
       "      <td>1.898514</td>\n",
       "      <td>2.028480</td>\n",
       "      <td>0</td>\n",
       "      <td>0</td>\n",
       "      <td>1</td>\n",
       "    </tr>\n",
       "    <tr>\n",
       "      <th>1</th>\n",
       "      <td>2.437308</td>\n",
       "      <td>2.698947</td>\n",
       "      <td>0</td>\n",
       "      <td>0</td>\n",
       "      <td>1</td>\n",
       "    </tr>\n",
       "    <tr>\n",
       "      <th>2</th>\n",
       "      <td>2.510048</td>\n",
       "      <td>3.852658</td>\n",
       "      <td>0</td>\n",
       "      <td>0</td>\n",
       "      <td>1</td>\n",
       "    </tr>\n",
       "    <tr>\n",
       "      <th>3</th>\n",
       "      <td>6.644061</td>\n",
       "      <td>7.167638</td>\n",
       "      <td>1</td>\n",
       "      <td>1</td>\n",
       "      <td>0</td>\n",
       "    </tr>\n",
       "    <tr>\n",
       "      <th>4</th>\n",
       "      <td>4.462413</td>\n",
       "      <td>5.375084</td>\n",
       "      <td>1</td>\n",
       "      <td>1</td>\n",
       "      <td>0</td>\n",
       "    </tr>\n",
       "  </tbody>\n",
       "</table>\n",
       "</div>"
      ],
      "text/plain": [
       "      col_1     col_2  centers  new_centers  sklearn_centers\n",
       "0  1.898514  2.028480        0            0                1\n",
       "1  2.437308  2.698947        0            0                1\n",
       "2  2.510048  3.852658        0            0                1\n",
       "3  6.644061  7.167638        1            1                0\n",
       "4  4.462413  5.375084        1            1                0"
      ]
     },
     "execution_count": 129,
     "metadata": {},
     "output_type": "execute_result"
    }
   ],
   "source": [
    "df.head()"
   ]
  },
  {
   "cell_type": "code",
   "execution_count": 130,
   "metadata": {},
   "outputs": [],
   "source": [
    "df[\"sklearn_centers\"] = 1-df[\"sklearn_centers\"]"
   ]
  },
  {
   "cell_type": "code",
   "execution_count": 131,
   "metadata": {},
   "outputs": [
    {
     "data": {
      "text/html": [
       "<div>\n",
       "<style scoped>\n",
       "    .dataframe tbody tr th:only-of-type {\n",
       "        vertical-align: middle;\n",
       "    }\n",
       "\n",
       "    .dataframe tbody tr th {\n",
       "        vertical-align: top;\n",
       "    }\n",
       "\n",
       "    .dataframe thead th {\n",
       "        text-align: right;\n",
       "    }\n",
       "</style>\n",
       "<table border=\"1\" class=\"dataframe\">\n",
       "  <thead>\n",
       "    <tr style=\"text-align: right;\">\n",
       "      <th></th>\n",
       "      <th>col_1</th>\n",
       "      <th>col_2</th>\n",
       "      <th>centers</th>\n",
       "      <th>new_centers</th>\n",
       "      <th>sklearn_centers</th>\n",
       "    </tr>\n",
       "  </thead>\n",
       "  <tbody>\n",
       "    <tr>\n",
       "      <th>0</th>\n",
       "      <td>1.898514</td>\n",
       "      <td>2.028480</td>\n",
       "      <td>0</td>\n",
       "      <td>0</td>\n",
       "      <td>0</td>\n",
       "    </tr>\n",
       "    <tr>\n",
       "      <th>1</th>\n",
       "      <td>2.437308</td>\n",
       "      <td>2.698947</td>\n",
       "      <td>0</td>\n",
       "      <td>0</td>\n",
       "      <td>0</td>\n",
       "    </tr>\n",
       "    <tr>\n",
       "      <th>2</th>\n",
       "      <td>2.510048</td>\n",
       "      <td>3.852658</td>\n",
       "      <td>0</td>\n",
       "      <td>0</td>\n",
       "      <td>0</td>\n",
       "    </tr>\n",
       "    <tr>\n",
       "      <th>3</th>\n",
       "      <td>6.644061</td>\n",
       "      <td>7.167638</td>\n",
       "      <td>1</td>\n",
       "      <td>1</td>\n",
       "      <td>1</td>\n",
       "    </tr>\n",
       "    <tr>\n",
       "      <th>4</th>\n",
       "      <td>4.462413</td>\n",
       "      <td>5.375084</td>\n",
       "      <td>1</td>\n",
       "      <td>1</td>\n",
       "      <td>1</td>\n",
       "    </tr>\n",
       "  </tbody>\n",
       "</table>\n",
       "</div>"
      ],
      "text/plain": [
       "      col_1     col_2  centers  new_centers  sklearn_centers\n",
       "0  1.898514  2.028480        0            0                0\n",
       "1  2.437308  2.698947        0            0                0\n",
       "2  2.510048  3.852658        0            0                0\n",
       "3  6.644061  7.167638        1            1                1\n",
       "4  4.462413  5.375084        1            1                1"
      ]
     },
     "execution_count": 131,
     "metadata": {},
     "output_type": "execute_result"
    }
   ],
   "source": [
    "df.head()"
   ]
  },
  {
   "cell_type": "code",
   "execution_count": 132,
   "metadata": {},
   "outputs": [],
   "source": [
    "cent = km.cluster_centers_"
   ]
  },
  {
   "cell_type": "code",
   "execution_count": 133,
   "metadata": {},
   "outputs": [
    {
     "data": {
      "text/plain": [
       "array([[5.50048309, 6.27607396],\n",
       "       [2.14269848, 3.46299308]])"
      ]
     },
     "execution_count": 133,
     "metadata": {},
     "output_type": "execute_result"
    }
   ],
   "source": [
    "cent"
   ]
  },
  {
   "cell_type": "code",
   "execution_count": 136,
   "metadata": {},
   "outputs": [
    {
     "data": {
      "image/png": "[encoded data removed]",
      "text/plain": [
       "<Figure size 504x432 with 1 Axes>"
      ]
     },
     "metadata": {
      "needs_background": "light"
     },
     "output_type": "display_data"
    }
   ],
   "source": [
    "# purn Exactly nearest point through sklearn: perfectly Done.\n",
    "\n",
    "plt.figure(figsize=(7,6))\n",
    "plt.scatter(x[df[\"centers\"]==0,0], x[df[\"centers\"]==0,1], color=\"red\")\n",
    "plt.scatter(x[df[\"centers\"]==1,0], x[df[\"centers\"]==1,1], color=\"yellow\")\n",
    "plt.scatter([cent1[0], cent2[0]], [cent1[1], cent2[1]], color=\"black\")\n",
    "plt.scatter([new_cent1[0], new_cent2[0]], [new_cent1[1], new_cent2[1]], marker=\"*\", color=\"blue\")\n",
    "plt.scatter([new_cent11[0], new_cent12[0]], [new_cent11[1], new_cent12[1]], marker=\"*\", color=\"green\")\n",
    "plt.scatter(cent[:,0], cent[:,1], marker=\"*\", color=\"purple\")\n",
    "plt.show()"
   ]
  },
  {
   "cell_type": "code",
   "execution_count": null,
   "metadata": {},
   "outputs": [],
   "source": []
  }
 ],
 "metadata": {
  "kernelspec": {
   "display_name": "Python 3",
   "language": "python",
   "name": "python3"
  },
  "language_info": {
   "codemirror_mode": {
    "name": "ipython",
    "version": 3
   },
   "file_extension": ".py",
   "mimetype": "text/x-python",
   "name": "python",
   "nbconvert_exporter": "python",
   "pygments_lexer": "ipython3",
   "version": "3.8.5"
  }
 },
 "nbformat": 4,
 "nbformat_minor": 4
}
